{
  "cells": [
    {
      "cell_type": "markdown",
      "metadata": {
        "id": "Jyrf8xk3k6Ys"
      },
      "source": [
        "# Лабораторная работа к лекции 1\n",
        "Ваше имя: Вереина Мария\n",
        "\n",
        "Ваш адрес электронной почты: VereinaMS@mgpu.ru"
      ]
    },
    {
      "cell_type": "markdown",
      "metadata": {
        "id": "86N7viRzk6Yt"
      },
      "source": [
        "## Упражнение 1.1. Типы данных и операции\n",
        "1. Определите две переменные и присвойте первой целое число, а второй — число с плавающей запятой. Определите новую переменную и присвойте сумму двух предыдущих переменных. Каков тип данных третьей переменной?\n",
        "2. Переназначьте переменную с другим типом данных, например, возьмите одну из числовых переменных и присвойте ей строку. Какой новый тип данных?\n",
        "3. Посмотрите, что произойдет, если вы попытаетесь добавить строку к строке.\n",
        "4. Посмотрите, что произойдет, если вы добавите строку к числу с плавающей запятой или целому числу."
      ]
    },
    {
      "cell_type": "code",
      "execution_count": 17,
      "metadata": {
        "id": "9ZgZCUPNk6Yt",
        "colab": {
          "base_uri": "https://localhost:8080/"
        },
        "outputId": "7ceb7c59-6350-4ef3-e2d9-1902bbeef4b2"
      },
      "outputs": [
        {
          "output_type": "stream",
          "name": "stdout",
          "text": [
            "29.3\n",
            "Тип данных третьей переменной - число с плавающей запятой:\n"
          ]
        },
        {
          "output_type": "execute_result",
          "data": {
            "text/plain": [
              "float"
            ]
          },
          "metadata": {},
          "execution_count": 17
        }
      ],
      "source": [
        "# Задание 1\n",
        "a = 12\n",
        "b = 17.3\n",
        "sum = a + b\n",
        "print(sum)\n",
        "print('Тип данных третьей переменной - число с плавающей запятой:')\n",
        "(type(sum))"
      ]
    },
    {
      "cell_type": "code",
      "source": [
        "# Задание 2\n",
        "a = str(a)\n",
        "print('Новый тип данных - строка:')\n",
        "type(a)"
      ],
      "metadata": {
        "colab": {
          "base_uri": "https://localhost:8080/"
        },
        "id": "q-VLxNed20h9",
        "outputId": "32d8b857-ee51-4cf6-ead9-1273ba9ae6e6"
      },
      "execution_count": 18,
      "outputs": [
        {
          "output_type": "stream",
          "name": "stdout",
          "text": [
            "Новый тип данных - строка:\n"
          ]
        },
        {
          "output_type": "execute_result",
          "data": {
            "text/plain": [
              "str"
            ]
          },
          "metadata": {},
          "execution_count": 18
        }
      ]
    },
    {
      "cell_type": "code",
      "source": [
        "# Задание 3\n",
        "c = ' месяцев в году'\n",
        "ac = a + c\n",
        "print('Результат добавления строки к строке: ' + ac)"
      ],
      "metadata": {
        "colab": {
          "base_uri": "https://localhost:8080/"
        },
        "id": "FWheHnES27SV",
        "outputId": "5f174a94-1e51-4431-9ccb-d07bfd73787d"
      },
      "execution_count": 19,
      "outputs": [
        {
          "output_type": "stream",
          "name": "stdout",
          "text": [
            "Результат добавления строки к строке: 12 месяцев в году\n"
          ]
        }
      ]
    },
    {
      "cell_type": "code",
      "source": [
        "# Задание 4\n",
        "\n",
        "#print(c + 10)\n",
        "\n",
        "#Ошибка: can only concatenate str (not \"int\") to str\n",
        "#без преобразований сложить строку и число нельзя, преобразования могут быть такими:\n",
        "\n",
        "#print(int(a)+b)"
      ],
      "metadata": {
        "id": "LXcRkkaa29Kt"
      },
      "execution_count": 20,
      "outputs": []
    },
    {
      "cell_type": "markdown",
      "metadata": {
        "id": "ZMoobyT-k6Yu"
      },
      "source": [
        "## Упражнение 1.2. Запуск программ\n",
        "\n",
        "  * Создайте новый файл Python(или файл с расширением `.ipynb`) и используйте функцию `double_number` в качестве шаблона. Измените код, чтобы добавить два числа вместо удвоения одного числа.\n",
        "  * Можете ли вы догадаться, что произойдет, если изменить отступ? Выполните данное действие.\n",
        "  * Попробуйте, что произойдет, если вы напечатаете `a` в самом конце программы. Пояснить, что происходит?\n",
        " [Текст ссылки](https://)"
      ]
    },
    {
      "cell_type": "code",
      "execution_count": 21,
      "metadata": {
        "id": "N2v5UHG1k6Yu",
        "colab": {
          "base_uri": "https://localhost:8080/"
        },
        "outputId": "312e2521-83c1-4043-87e3-f9e80098179b"
      },
      "outputs": [
        {
          "output_type": "stream",
          "name": "stdout",
          "text": [
            "9\n",
            "24.6\n"
          ]
        }
      ],
      "source": [
        "def double_number(a,b):\n",
        "    a += b\n",
        "    return a\n",
        "\n",
        "print(double_number(3, 6))\n",
        "print(double_number(13.2,11.4))"
      ]
    },
    {
      "cell_type": "code",
      "source": [
        "#def double_number(a,b):\n",
        "#a += b\n",
        "#return a\n",
        "\n",
        "#print(double_number(3,6))\n",
        "#print(double_number(13.2,11.4))\n",
        "\n",
        "#в Python после двоеточия идёт тело функции, которое отделяется отступами.\n",
        "#В этом коде команда начинается на том же уровне, что и определение функции, а в Python так не принято.\n",
        "#Компилятор сообщает, что не хватает отступов, выводя ошибку IndentationError."
      ],
      "metadata": {
        "id": "qCx-JngoTKhr"
      },
      "execution_count": 22,
      "outputs": []
    },
    {
      "cell_type": "code",
      "source": [
        "#def double_number(a,b):\n",
        "#    a += b\n",
        "#    return aa\n",
        "\n",
        "#print(double_number(3,6))\n",
        "#print(double_number(13.2,11.4))\n",
        "\n",
        "#если добавить 'а' в конце программы, будет ошибка:\n",
        "#name 'aa' is not defined, так как переменную с таким именем не определяли"
      ],
      "metadata": {
        "id": "q9NnvaNrUXOk"
      },
      "execution_count": 23,
      "outputs": []
    },
    {
      "cell_type": "markdown",
      "metadata": {
        "id": "15GtjpzGk6Yu"
      },
      "source": [
        "## Упражнение 1.3. Создание ячеек, выполнение кода\n",
        "\n",
        "1. Создайте новую ячейку кода ниже, где вы определите переменные, содержащие ваше имя, ваш возраст  и вашу специальность.\n",
        "2. Создайте еще одну ячейку, использующую эти переменные, и выведите объединенную строку с указанием вашего имени, специальности и возраста в годах, месяцах и днях (при условии, что сегодня ваш день рождения). Вывод должен выглядеть так:\n",
        "\n",
        "```\n",
        "Имя: Кот-ученый, Специальность: Бизнес-Информатика, Возраст: 18 лет, или 216 месяцев, или 6480 дней..\n",
        "```"
      ]
    },
    {
      "cell_type": "code",
      "source": [
        "name = \"Вереина Мария\"\n",
        "age = 20\n",
        "spec = 'Бизнес-информатика'"
      ],
      "metadata": {
        "id": "F4IAg19H3EKR"
      },
      "execution_count": 24,
      "outputs": []
    },
    {
      "cell_type": "code",
      "source": [
        "print(f\"Имя: {name}, Специальность: {spec}, Возраст: {age} лет, или {age*12} месяцев, или {age*12*30} дней..\")"
      ],
      "metadata": {
        "colab": {
          "base_uri": "https://localhost:8080/"
        },
        "id": "aUHbg1cW3EkS",
        "outputId": "c33bfc46-1541-43f1-8438-0e09c6ba854a"
      },
      "execution_count": 25,
      "outputs": [
        {
          "output_type": "stream",
          "name": "stdout",
          "text": [
            "Имя: Вереина Мария, Специальность: Бизнес-информатика, Возраст: 20 лет, или 240 месяцев, или 7200 дней..\n"
          ]
        }
      ]
    },
    {
      "cell_type": "markdown",
      "metadata": {
        "id": "bPTBzjXhk6Yu"
      },
      "source": [
        "## Упражнение 1.4: Функции\n",
        "Напишите функцию, которая\n",
        "  * принимает две числовые переменные\n",
        "  * умножает их друг на друга\n",
        "  * делит их на числовую переменную, определенную в области видимости вне функции\n",
        "  * и возвращает результат.\n",
        "\n",
        "Выведите результат функции для трех разных наборов входных переменных."
      ]
    },
    {
      "cell_type": "code",
      "execution_count": 26,
      "metadata": {
        "id": "z7DKIUQCk6Yu",
        "colab": {
          "base_uri": "https://localhost:8080/"
        },
        "outputId": "a5afe980-dcbc-42e0-cfb4-8277ca67e81d"
      },
      "outputs": [
        {
          "output_type": "stream",
          "name": "stdout",
          "text": [
            "Результат:  14.0\n",
            "\n",
            "Результат:  27.0\n",
            "\n",
            "Результат:  24.75\n"
          ]
        }
      ],
      "source": [
        "var = 4\n",
        "\n",
        "def function(a, b):\n",
        "    return (a * b)/var\n",
        "\n",
        "res = function(14, 4)\n",
        "print(\"Результат: \", res)\n",
        "\n",
        "res = function(6, 18)\n",
        "print(\"\\nРезультат: \", res)\n",
        "\n",
        "res = function(9, 11)\n",
        "print(\"\\nРезультат: \", res)"
      ]
    },
    {
      "cell_type": "markdown",
      "metadata": {
        "id": "VKgZ3R3S2ggX"
      },
      "source": [
        "## Упражнение 1.5*\n",
        "\n",
        "Есть некоторые данные о количестве книг, прочитанных разными людьми, работающими в книжном магазине Владимира. Создайте код Python, который учитывает каждого человека и выводит, сколько книг он прочитал. Если кто-то прочитал 0 книг, выведите «___ не читал ни одной книги!» вместо количества книг."
      ]
    },
    {
      "cell_type": "code",
      "execution_count": 27,
      "metadata": {
        "id": "OH0oWpuC2ggY"
      },
      "outputs": [],
      "source": [
        "people = ['Krishnang', 'Steve', 'Jimmy', 'Mary', 'Divya', 'Robert', 'Yulia']\n",
        "books_read = [12, 6, 0, 7, 4, 10, 15]"
      ]
    },
    {
      "cell_type": "markdown",
      "metadata": {
        "id": "xjARgTB62gga"
      },
      "source": [
        "Существует несколько способов решить эту задачу: можно изучить функцию `zip()`, использовать `enumerate()`, `range` и `len` или использовать другие методы. Чтобы напечатать имена и значения, вы можете использовать конкатенацию строк (+), форматирование f-строки или другие методы."
      ]
    },
    {
      "cell_type": "code",
      "execution_count": 28,
      "metadata": {
        "colab": {
          "base_uri": "https://localhost:8080/"
        },
        "id": "LL04OsOS2gga",
        "outputId": "c099802f-31e3-476f-9d16-d9fb50c4072c"
      },
      "outputs": [
        {
          "output_type": "stream",
          "name": "stdout",
          "text": [
            "Krishnang прочитал 12 книг.\n",
            "Steve прочитал 6 книг.\n",
            "Jimmy не читал ни одной книги!\n",
            "Mary прочитал 7 книг.\n",
            "Divya прочитал 4 книг.\n",
            "Robert прочитал 10 книг.\n",
            "Yulia прочитал 15 книг.\n"
          ]
        }
      ],
      "source": [
        "#способ 1\n",
        "for i in range(len(books_read)):\n",
        "    if books_read[i] == 0:\n",
        "        print(people[i], 'не читал ни одной книги!')\n",
        "    else:\n",
        "        print(people[i], 'прочитал', books_read[i], 'книг.')"
      ]
    },
    {
      "cell_type": "code",
      "source": [
        "#способ 2\n",
        "for name, number in zip(people, books_read):\n",
        "  if number == 0:\n",
        "    print(name, 'не читал ни одной книги!')\n",
        "  else:\n",
        "    print(name, 'прочитал', number, 'книг.')\n"
      ],
      "metadata": {
        "colab": {
          "base_uri": "https://localhost:8080/"
        },
        "id": "msbLVPkSa1ej",
        "outputId": "c0bcb152-ac9f-4dcc-c4c4-38653b993546"
      },
      "execution_count": 29,
      "outputs": [
        {
          "output_type": "stream",
          "name": "stdout",
          "text": [
            "Krishnang прочитал 12 книг.\n",
            "Steve прочитал 6 книг.\n",
            "Jimmy не читал ни одной книги!\n",
            "Mary прочитал 7 книг.\n",
            "Divya прочитал 4 книг.\n",
            "Robert прочитал 10 книг.\n",
            "Yulia прочитал 15 книг.\n"
          ]
        }
      ]
    },
    {
      "cell_type": "markdown",
      "metadata": {
        "id": "hI2Z55tE2ggb"
      },
      "source": [
        "Преобразуйте только что созданный цикл в функцию, которая принимает два списка (прочитанные книги и людей) в качестве аргументов."
      ]
    },
    {
      "cell_type": "code",
      "execution_count": 30,
      "metadata": {
        "colab": {
          "base_uri": "https://localhost:8080/"
        },
        "id": "sQ5w9wX42ggc",
        "outputId": "ebe4115a-7881-42ff-c34c-cad13b99c60e"
      },
      "outputs": [
        {
          "output_type": "stream",
          "name": "stdout",
          "text": [
            "Krishnang прочитал 12 книг.\n",
            "Steve прочитал 6 книг.\n",
            "Jimmy не прочел ни одной книги!\n",
            "Mary прочитал 7 книг.\n",
            "Divya прочитал 4 книг.\n",
            "Robert прочитал 10 книг.\n",
            "Yulia прочитал 15 книг.\n"
          ]
        }
      ],
      "source": [
        "def book_function(df1, df2):\n",
        "  for i in range(len(df1)):\n",
        "    if df1[i] == 0:\n",
        "      print(df2[i], 'не прочел ни одной книги!')\n",
        "    else:\n",
        "      print(df2[i], 'прочитал', df1[i], 'книг.')\n",
        "\n",
        "book_function(books_read, people)"
      ]
    },
    {
      "cell_type": "markdown",
      "metadata": {
        "id": "OK1uRGZG2ggd"
      },
      "source": [
        "Отсортируйте значения `books_read` от большего к меньшему и выведите трех первых людей с количеством прочитанных ими книг. Некоторые возможные способы решения этой задачи включают использование сортировки аргументов `NumPy`, создание словаря и создание кортежей."
      ]
    },
    {
      "cell_type": "code",
      "execution_count": 31,
      "metadata": {
        "colab": {
          "base_uri": "https://localhost:8080/"
        },
        "id": "vms0MSHD2ggd",
        "outputId": "32530764-350b-4c91-f9a3-8591aa035341"
      },
      "outputs": [
        {
          "output_type": "stream",
          "name": "stdout",
          "text": [
            "Krishnang прочитал 15 книг.\n",
            "Steve прочитал 12 книг.\n",
            "Jimmy прочитал 10 книг.\n"
          ]
        }
      ],
      "source": [
        "def top_readers(data1, data2):\n",
        "  data1.sort(reverse=True)\n",
        "  for i in range(min(len(data2),3)):\n",
        "    print(data2[i], 'прочитал', data1[i], 'книг.')\n",
        "\n",
        "top_readers(books_read, people)"
      ]
    },
    {
      "cell_type": "code",
      "source": [
        "sorted_books = sorted(books_read, reverse = True)[:3]\n",
        "for i in people[:3]:\n",
        "  if books_read[people.index(i)] in sorted_books:\n",
        "    print(i, 'прочитал', books_read[people.index(i)], 'книг.')"
      ],
      "metadata": {
        "colab": {
          "base_uri": "https://localhost:8080/"
        },
        "id": "QK1s3zxgdKIj",
        "outputId": "85a7eb0a-8dbf-47f1-ca95-316c702c73b7"
      },
      "execution_count": 32,
      "outputs": [
        {
          "output_type": "stream",
          "name": "stdout",
          "text": [
            "Krishnang прочитал 15 книг.\n",
            "Steve прочитал 12 книг.\n",
            "Jimmy прочитал 10 книг.\n"
          ]
        }
      ]
    }
  ],
  "metadata": {
    "colab": {
      "provenance": []
    },
    "kernelspec": {
      "display_name": "Python 3 (ipykernel)",
      "language": "python",
      "name": "python3"
    },
    "language_info": {
      "codemirror_mode": {
        "name": "ipython",
        "version": 3
      },
      "file_extension": ".py",
      "mimetype": "text/x-python",
      "name": "python",
      "nbconvert_exporter": "python",
      "pygments_lexer": "ipython3",
      "version": "3.9.13"
    }
  },
  "nbformat": 4,
  "nbformat_minor": 0
}